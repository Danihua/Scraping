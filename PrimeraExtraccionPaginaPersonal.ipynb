{
 "cells": [
  {
   "cell_type": "code",
   "execution_count": 2,
   "metadata": {},
   "outputs": [],
   "source": [
    "# Importacion de herraminetas necesarias\n",
    "import requests\n",
    "from bs4 import BeautifulSoup"
   ]
  },
  {
   "cell_type": "code",
   "execution_count": 6,
   "metadata": {},
   "outputs": [
    {
     "name": "stdout",
     "output_type": "stream",
     "text": [
      "page: \n",
      "<!DOCTYPE html>\n",
      "<html lang=\"es\">\n",
      " <head>\n",
      "  <title>\n",
      "   Investigacion de Camaras fotograficas flex\n",
      "  </title>\n",
      "  <link href=\"Style.css\" rel=\"stylesheet\"/>\n",
      " </head>\n",
      " <body>\n",
      "  <div>\n",
      "   <div id=\"header\">\n",
      "    <div class=\"header-image\">\n",
      "     <img src=\"portada-camaras-iniciacion-principiantes-primera-reflex-dslr.jpg\" width=\"100%\"/>\n",
      "    </div>\n",
      "    <div class=\"header-title\">\n",
      "     <h1>\n",
      "      Las mejores cámaras réflex del mercado para hacer fotos de calidad profesional\n",
      "     </h1>\n",
      "     <h2>\n",
      "      ¿CUÁLES SON LAS MEJORES CÁMARAS RÉFLEX EN EL 2022?\n",
      "     </h2>\n",
      "     <h2>\n",
      "      Por: Danitza Diaz\n",
      "     </h2>\n",
      "    </div>\n",
      "   </div>\n",
      "   <div id=\"contend\">\n",
      "    <div class=\"espacio\">\n",
      "     <img src=\"camaraza.jpg\" width=\"50%\"/>\n",
      "    </div>\n",
      "    <h2>\n",
      "     ¿Que es una camara reflex digital?\n",
      "    </h2>\n",
      "    <h3>\n",
      "     Una cámara réflex digital, o también llamada DSRL (Digital Single Lens Reflex) debe su nombre a dos características fundamentales:\n",
      "     <br/>\n",
      "     <br/>\n",
      "     1. Visor Réflex: Lo cual significa, que cuando miramos a través del visor, vemos, sin ningún tipo de retardo, la escena. Esto se produce\n",
      "     <br/>\n",
      "     gracias a un espejo colocado a 45º y un pentaprisma que conducen e invierten la imagen para que la veamos correctamente a través del visor.\n",
      "     <br/>\n",
      "     Las ventajas del visor réflex, son muchas, y las sensaciones, también, pero las veremos más adelante junto con las otras muchas partes de la\n",
      "     <br/>\n",
      "     cámara en una réflex, que le dan un carácter único.\n",
      "     <br/>\n",
      "     <br/>\n",
      "     2. Un sensor de imagen: El material fotosensible, que en las cámaras analógicas era el negativo, en las cámaras digitales se transforma en un sensor\n",
      "     <br/>\n",
      "     digital compuesto por píxeles. Normalmente estos sensores son del tipo CCD (Charged-Coupled Device) o CMOS (Complementary Metal-Oxide Semiconductor)\n",
      "     <br/>\n",
      "     y son los que se encargarán de retener la imagen.\n",
      "     <br/>\n",
      "     Estos sensores tienen una resolución en función del número de píxeles: los famosos y tan erróneamente bien valorados Megapixeles de las cámaras digitales,\n",
      "     <br/>\n",
      "     que aunque nos los vendan así NO son los que dan la calidad a una imagen, simplemente miden su tamaño.\n",
      "     <br/>\n",
      "     Evidentemente, al ser un solo sensor digital lo que retiene la imagen, una vez capturada, esta debe transformarse en un archivo digital,\n",
      "     <br/>\n",
      "     de ahí que las cámaras digitales dispongan de zócalos donde mediante tarjetas de memoria, vamos almacenando las fotografías.\n",
      "     <br/>\n",
      "     Esto tiene una ventaja añadida, el poder ver las imágenes inmediatamente después de haberlas tomado mediante una pantalla LCD,\n",
      "     <br/>\n",
      "     que incorporan todas las cámaras digitales y otra de las características fundamentales de una cámara digital.\n",
      "     <br/>\n",
      "     ¿Y puedo hacer fotos a través de la pantalla? Pues aunque parezca mentira, hasta hace relativamente poco no, aunque desde que la arriesgada\n",
      "     <br/>\n",
      "     Olympus E-330 lo incluyo entre sus características, muchos modelos y marcas lo han ido implementando con el tiempo, hasta el punto de que la\n",
      "     <br/>\n",
      "     mayoría de las cámaras réflex actuales lo permiten, quitando contadas excepciones.\n",
      "     <br/>\n",
      "     Aparte de estas dos características básicas, otra característica fundamental de las réflex digitales es la posibilidad de intercambiar los objetivos\n",
      "     <br/>\n",
      "     con lo cual las posibilidades fotográficas se multiplican de sobremanera, aunque ya veremos más detalladamente como influye cada tipo de objetivo sobre\n",
      "     <br/>\n",
      "     la escena que queramos fotografiar.\n",
      "     <br/>\n",
      "     Por cierto, un último apunte, las cámaras réflex digitales NO graban vídeo como las compactas, al menos de momento.\n",
      "    </h3>\n",
      "   </div>\n",
      "   <div id=\"table\">\n",
      "    <table>\n",
      "     <h2>\n",
      "      top 10 camaras fotograficas profesionales\n",
      "     </h2>\n",
      "     <tr>\n",
      "      <th>\n",
      "       Nombre\n",
      "      </th>\n",
      "      <th>\n",
      "       Marca\n",
      "      </th>\n",
      "      <th>\n",
      "       Precio\n",
      "      </th>\n",
      "     </tr>\n",
      "     <tr>\n",
      "      <td>\n",
      "       CANON EOS 4000D\n",
      "      </td>\n",
      "      <td>\n",
      "       CANON\n",
      "      </td>\n",
      "      <td>\n",
      "       400 EUR\n",
      "      </td>\n",
      "     </tr>\n",
      "     <tr>\n",
      "      <td>\n",
      "       NIKON D3500\n",
      "      </td>\n",
      "      <td>\n",
      "       NIKON\n",
      "      </td>\n",
      "      <td>\n",
      "       600 EUR\n",
      "      </td>\n",
      "     </tr>\n",
      "     <tr>\n",
      "      <td>\n",
      "       CANON EOS 90D\n",
      "      </td>\n",
      "      <td>\n",
      "       CANON\n",
      "      </td>\n",
      "      <td>\n",
      "       1100 EUR\n",
      "      </td>\n",
      "     </tr>\n",
      "     <tr>\n",
      "      <td>\n",
      "       NIKON D5600\n",
      "      </td>\n",
      "      <td>\n",
      "       NIKON\n",
      "      </td>\n",
      "      <td>\n",
      "       900 EUR\n",
      "      </td>\n",
      "     </tr>\n",
      "     <tr>\n",
      "      <td>\n",
      "       CANON EOS 2000D\n",
      "      </td>\n",
      "      <td>\n",
      "       CANON\n",
      "      </td>\n",
      "      <td>\n",
      "       500 EUR\n",
      "      </td>\n",
      "     </tr>\n",
      "     <tr>\n",
      "      <td>\n",
      "       PENTAX K-70\n",
      "      </td>\n",
      "      <td>\n",
      "       PENTAX\n",
      "      </td>\n",
      "      <td>\n",
      "       1200 EUR\n",
      "      </td>\n",
      "     </tr>\n",
      "     <tr>\n",
      "      <td>\n",
      "       SONY A6000\n",
      "      </td>\n",
      "      <td>\n",
      "       SONY\n",
      "      </td>\n",
      "      <td>\n",
      "       1000 EUR\n",
      "      </td>\n",
      "     </tr>\n",
      "     <tr>\n",
      "      <td>\n",
      "       CANON EOS 250D\n",
      "      </td>\n",
      "      <td>\n",
      "       CANON\n",
      "      </td>\n",
      "      <td>\n",
      "       900 EUR\n",
      "      </td>\n",
      "     </tr>\n",
      "     <tr>\n",
      "      <td>\n",
      "       CANON EOS 850D\n",
      "      </td>\n",
      "      <td>\n",
      "       CANON\n",
      "      </td>\n",
      "      <td>\n",
      "       1400 EUR\n",
      "      </td>\n",
      "     </tr>\n",
      "     <tr>\n",
      "      <td>\n",
      "       NIKON D7500\n",
      "      </td>\n",
      "      <td>\n",
      "       NIKON\n",
      "      </td>\n",
      "      <td>\n",
      "       1100 EUR\n",
      "      </td>\n",
      "     </tr>\n",
      "    </table>\n",
      "   </div>\n",
      "  </div>\n",
      " </body>\n",
      "</html>\n",
      "\n"
     ]
    }
   ],
   "source": [
    "url = 'https://danihua.github.io/TRABAJO-NRO-1/'\n",
    "\n",
    "page = requests.get(url)\n",
    "page = BeautifulSoup(page.content, 'html.parser')\n",
    "print(f'page: \\n{page.prettify()}')\n",
    "\n"
   ]
  },
  {
   "cell_type": "code",
   "execution_count": 10,
   "metadata": {},
   "outputs": [
    {
     "data": {
      "text/plain": [
       "<h1>Las mejores cámaras réflex del mercado para hacer fotos de calidad profesional</h1>"
      ]
     },
     "execution_count": 10,
     "metadata": {},
     "output_type": "execute_result"
    }
   ],
   "source": [
    "page.find('h1')"
   ]
  },
  {
   "cell_type": "code",
   "execution_count": 11,
   "metadata": {},
   "outputs": [
    {
     "data": {
      "text/plain": [
       "<h2>¿CUÁLES SON LAS MEJORES CÁMARAS RÉFLEX EN EL 2022?</h2>"
      ]
     },
     "execution_count": 11,
     "metadata": {},
     "output_type": "execute_result"
    }
   ],
   "source": [
    "page.find('h2')"
   ]
  },
  {
   "cell_type": "code",
   "execution_count": 12,
   "metadata": {},
   "outputs": [
    {
     "data": {
      "text/plain": [
       "<h3>Una cámara réflex digital, o también llamada DSRL (Digital Single Lens Reflex) debe su nombre a dos características fundamentales:<br/><br/>\n",
       "    1. Visor Réflex: Lo cual significa, que cuando miramos a través del visor, vemos, sin ningún tipo de retardo, la escena. Esto se produce<br/>\n",
       "    gracias a un espejo colocado a 45º y un pentaprisma que conducen e invierten la imagen para que la veamos correctamente a través del visor.<br/>\n",
       "    Las ventajas del visor réflex, son muchas, y las sensaciones, también, pero las veremos más adelante junto con las otras muchas partes de la<br/>\n",
       "    cámara en una réflex, que le dan un carácter único.<br/><br/>\n",
       "\n",
       "    2. Un sensor de imagen: El material fotosensible, que en las cámaras analógicas era el negativo, en las cámaras digitales se transforma en un sensor<br/>\n",
       "    digital compuesto por píxeles. Normalmente estos sensores son del tipo CCD (Charged-Coupled Device) o CMOS (Complementary Metal-Oxide Semiconductor)<br/>\n",
       "    y son los que se encargarán de retener la imagen.<br/>\n",
       "    Estos sensores tienen una resolución en función del número de píxeles: los famosos y tan erróneamente bien valorados Megapixeles de las cámaras digitales,<br/>\n",
       "    que aunque nos los vendan así NO son los que dan la calidad a una imagen, simplemente miden su tamaño.<br/>\n",
       "    Evidentemente, al ser un solo sensor digital lo que retiene la imagen, una vez capturada, esta debe transformarse en un archivo digital,<br/>\n",
       "    de ahí que las cámaras digitales dispongan de zócalos donde mediante tarjetas de memoria, vamos almacenando las fotografías.<br/>\n",
       "    Esto tiene una ventaja añadida, el poder ver las imágenes inmediatamente después de haberlas tomado mediante una pantalla LCD,<br/>\n",
       "    que incorporan todas las cámaras digitales y otra de las características fundamentales de una cámara digital.<br/>\n",
       "    ¿Y puedo hacer fotos a través de la pantalla? Pues aunque parezca mentira, hasta hace relativamente poco no, aunque desde que la arriesgada<br/>\n",
       "    Olympus E-330 lo incluyo entre sus características, muchos modelos y marcas lo han ido implementando con el tiempo, hasta el punto de que la<br/>\n",
       "    mayoría de las cámaras réflex actuales lo permiten, quitando contadas excepciones.<br/>\n",
       "    Aparte de estas dos características básicas, otra característica fundamental de las réflex digitales es la posibilidad de intercambiar los objetivos<br/>\n",
       "    con lo cual las posibilidades fotográficas se multiplican de sobremanera, aunque ya veremos más detalladamente como influye cada tipo de objetivo sobre<br/>\n",
       "    la escena que queramos fotografiar.<br/>\n",
       "    Por cierto, un último apunte, las cámaras réflex digitales NO graban vídeo como las compactas, al menos de momento.</h3>"
      ]
     },
     "execution_count": 12,
     "metadata": {},
     "output_type": "execute_result"
    }
   ],
   "source": [
    "page.find('h3')"
   ]
  },
  {
   "cell_type": "code",
   "execution_count": 14,
   "metadata": {},
   "outputs": [
    {
     "data": {
      "text/plain": [
       "[<tr>\n",
       " <th>Nombre</th>\n",
       " <th>Marca</th>\n",
       " <th>Precio</th>\n",
       " </tr>,\n",
       " <tr>\n",
       " <td>CANON EOS 4000D</td>\n",
       " <td>CANON</td>\n",
       " <td>400 EUR</td>\n",
       " </tr>,\n",
       " <tr>\n",
       " <td>NIKON D3500</td>\n",
       " <td>NIKON</td>\n",
       " <td>600 EUR</td>\n",
       " </tr>,\n",
       " <tr>\n",
       " <td>CANON EOS 90D</td>\n",
       " <td>CANON</td>\n",
       " <td>1100 EUR</td>\n",
       " </tr>,\n",
       " <tr>\n",
       " <td>NIKON D5600</td>\n",
       " <td>NIKON</td>\n",
       " <td>900 EUR</td>\n",
       " </tr>,\n",
       " <tr>\n",
       " <td>CANON EOS 2000D</td>\n",
       " <td>CANON</td>\n",
       " <td>500 EUR</td>\n",
       " </tr>,\n",
       " <tr>\n",
       " <td>PENTAX K-70</td>\n",
       " <td>PENTAX</td>\n",
       " <td>1200 EUR</td>\n",
       " </tr>,\n",
       " <tr>\n",
       " <td>SONY A6000</td>\n",
       " <td>SONY</td>\n",
       " <td>1000 EUR</td>\n",
       " </tr>,\n",
       " <tr>\n",
       " <td>CANON EOS 250D</td>\n",
       " <td>CANON</td>\n",
       " <td>900 EUR</td>\n",
       " </tr>,\n",
       " <tr>\n",
       " <td>CANON EOS 850D</td>\n",
       " <td>CANON</td>\n",
       " <td>1400 EUR</td>\n",
       " </tr>,\n",
       " <tr>\n",
       " <td>NIKON D7500</td>\n",
       " <td>NIKON</td>\n",
       " <td>1100 EUR</td>\n",
       " </tr>]"
      ]
     },
     "execution_count": 14,
     "metadata": {},
     "output_type": "execute_result"
    }
   ],
   "source": [
    "page.find_all('tr')"
   ]
  },
  {
   "cell_type": "code",
   "execution_count": 15,
   "metadata": {},
   "outputs": [
    {
     "data": {
      "text/plain": [
       "[<div class=\"header-image\">\n",
       " <img src=\"portada-camaras-iniciacion-principiantes-primera-reflex-dslr.jpg\" width=\"100%\"/>\n",
       " </div>]"
      ]
     },
     "execution_count": 15,
     "metadata": {},
     "output_type": "execute_result"
    }
   ],
   "source": [
    "page.find_all(class_='header-image')"
   ]
  }
 ],
 "metadata": {
  "kernelspec": {
   "display_name": "Python 3.10.8 64-bit",
   "language": "python",
   "name": "python3"
  },
  "language_info": {
   "codemirror_mode": {
    "name": "ipython",
    "version": 3
   },
   "file_extension": ".py",
   "mimetype": "text/x-python",
   "name": "python",
   "nbconvert_exporter": "python",
   "pygments_lexer": "ipython3",
   "version": "3.10.8"
  },
  "orig_nbformat": 4,
  "vscode": {
   "interpreter": {
    "hash": "2d0abe5f30a15a1a2dcd598f175e84b4219c221b6dc35ac637f623bca44c8a0c"
   }
  }
 },
 "nbformat": 4,
 "nbformat_minor": 2
}
